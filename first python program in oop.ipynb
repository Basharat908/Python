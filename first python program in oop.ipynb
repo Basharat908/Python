{
 "cells": [
  {
   "cell_type": "code",
   "execution_count": 25,
   "source": [
    "class Phone:\r\n",
    "    def making_call(self):\r\n",
    "        print(\"I am going to make a call\")\r\n",
    "    def  play_game(self):\r\n",
    "        print(\"Playing a game\")\r\n",
    "    def set_color(self,color):\r\n",
    "        self.color = color\r\n",
    "    def set_cost(self,cost):\r\n",
    "        self.cost= cost\r\n",
    "    def show_color(self):\r\n",
    "        return self.color\r\n",
    "    def show_cost(self):\r\n",
    "        return self.cost\r\n",
    "    \r\n"
   ],
   "outputs": [],
   "metadata": {}
  },
  {
   "cell_type": "code",
   "execution_count": 26,
   "source": [
    "p2 = Phone()"
   ],
   "outputs": [],
   "metadata": {}
  },
  {
   "cell_type": "code",
   "execution_count": 27,
   "source": [
    "p2.set_color(\"blue\")"
   ],
   "outputs": [],
   "metadata": {}
  },
  {
   "cell_type": "code",
   "execution_count": 28,
   "source": [
    "p2.set_cost(15000)\r\n"
   ],
   "outputs": [],
   "metadata": {}
  },
  {
   "cell_type": "code",
   "execution_count": 30,
   "source": [
    "p2.show_color()\r\n"
   ],
   "outputs": [
    {
     "output_type": "execute_result",
     "data": {
      "text/plain": [
       "'blue'"
      ]
     },
     "metadata": {},
     "execution_count": 30
    }
   ],
   "metadata": {}
  },
  {
   "cell_type": "code",
   "execution_count": 36,
   "source": [
    "p2.show_cost()"
   ],
   "outputs": [
    {
     "output_type": "execute_result",
     "data": {
      "text/plain": [
       "15000"
      ]
     },
     "metadata": {},
     "execution_count": 36
    }
   ],
   "metadata": {}
  },
  {
   "cell_type": "code",
   "execution_count": 39,
   "source": [
    "p2.making_call()\r\n",
    "p2.play_game()"
   ],
   "outputs": [
    {
     "output_type": "stream",
     "name": "stdout",
     "text": [
      "I am going to make a call\n",
      "Playing a game\n"
     ]
    }
   ],
   "metadata": {}
  },
  {
   "cell_type": "code",
   "execution_count": 86,
   "source": [
    "class Laptop:\r\n",
    "    def set_size(self,size):\r\n",
    "        self.size = size\r\n",
    "    def set_cost(self,cost):\r\n",
    "        self.cost = cost\r\n",
    "    def set_weight(self,weight):\r\n",
    "        self.weight = weight\r\n",
    "    def show_size(self):\r\n",
    "        return self.size\r\n",
    "    def show_cost(self):\r\n",
    "        return self.cost\r\n",
    "    def show_weight(self):\r\n",
    "        return self.weight"
   ],
   "outputs": [],
   "metadata": {}
  },
  {
   "cell_type": "code",
   "execution_count": 87,
   "source": [
    "hp = Laptop()"
   ],
   "outputs": [],
   "metadata": {}
  },
  {
   "cell_type": "code",
   "execution_count": 88,
   "source": [
    "hp.set_size(15)"
   ],
   "outputs": [],
   "metadata": {}
  },
  {
   "cell_type": "code",
   "execution_count": 89,
   "source": [
    "hp.show_size()"
   ],
   "outputs": [
    {
     "output_type": "execute_result",
     "data": {
      "text/plain": [
       "15"
      ]
     },
     "metadata": {},
     "execution_count": 89
    }
   ],
   "metadata": {}
  },
  {
   "cell_type": "code",
   "execution_count": 90,
   "source": [
    "hp.set_weight(1.38)\r\n"
   ],
   "outputs": [],
   "metadata": {}
  },
  {
   "cell_type": "code",
   "execution_count": 91,
   "source": [
    "hp.show_weight()"
   ],
   "outputs": [
    {
     "output_type": "execute_result",
     "data": {
      "text/plain": [
       "1.38"
      ]
     },
     "metadata": {},
     "execution_count": 91
    }
   ],
   "metadata": {}
  },
  {
   "cell_type": "markdown",
   "source": [
    "Constructors in Python"
   ],
   "metadata": {}
  },
  {
   "cell_type": "code",
   "execution_count": 185,
   "source": [
    "class Employee:\r\n",
    "    \r\n",
    "    def __init__(self, name, age, salary, gender):\r\n",
    "        self.namee = name\r\n",
    "        self.agee = age\r\n",
    "        self.salaryy = salary\r\n",
    "        self.genderr = gender\r\n",
    "\r\n",
    "    def show_employee_details(self):\r\n",
    "        print(\"Name of the employee :\", self.namee)\r\n",
    "        print(\"age of the employee :\",self.agee)\r\n",
    "        print(\"Salary of the employee :\" , self.salaryy)\r\n",
    "        print(\"Gender of employee is : \",self.genderr)"
   ],
   "outputs": [],
   "metadata": {}
  },
  {
   "cell_type": "code",
   "execution_count": 186,
   "source": [
    "emp=Employee('Basharat',22,50000,'male')\r\n",
    "emp.show_employee_details()"
   ],
   "outputs": [
    {
     "output_type": "stream",
     "name": "stdout",
     "text": [
      "Name of the employee : Basharat\n",
      "age of the employee : 22\n",
      "Salary of the employee : 50000\n",
      "Gender of employee is :  male\n"
     ]
    }
   ],
   "metadata": {}
  },
  {
   "cell_type": "markdown",
   "source": [
    "constructor for vehicle"
   ],
   "metadata": {}
  },
  {
   "cell_type": "code",
   "execution_count": 153,
   "source": [
    "class Vehicle:\r\n",
    "\r\n",
    "    def __init__(self, m, c):\r\n",
    "        self.mileage = m\r\n",
    "        self.cost = c\r\n",
    "\r\n",
    "    def show_details(self):\r\n",
    "        print(\"I am a vehicle\")\r\n",
    "        print(\"Mileage of vehicle is \",self.mileage)\r\n",
    "        print(\"Cost the vehicle is \",self.cost)"
   ],
   "outputs": [],
   "metadata": {}
  },
  {
   "cell_type": "code",
   "execution_count": 155,
   "source": [
    "v1 = Vehicle(500,500)\r\n",
    "v1.show_details()"
   ],
   "outputs": [
    {
     "output_type": "stream",
     "name": "stdout",
     "text": [
      "I am a vehicle\n",
      "Mileage of vehicle is  500\n",
      "Cost the vehicle is  500\n"
     ]
    }
   ],
   "metadata": {}
  },
  {
   "cell_type": "code",
   "execution_count": null,
   "source": [],
   "outputs": [],
   "metadata": {}
  }
 ],
 "metadata": {
  "orig_nbformat": 4,
  "language_info": {
   "name": "python",
   "version": "3.9.6",
   "mimetype": "text/x-python",
   "codemirror_mode": {
    "name": "ipython",
    "version": 3
   },
   "pygments_lexer": "ipython3",
   "nbconvert_exporter": "python",
   "file_extension": ".py"
  },
  "kernelspec": {
   "name": "python3",
   "display_name": "Python 3.9.6 64-bit"
  },
  "interpreter": {
   "hash": "d59fea3f7a67401d5efa907840599a5a91f0d0c584b17001eb3c2147a3331e80"
  }
 },
 "nbformat": 4,
 "nbformat_minor": 2
}